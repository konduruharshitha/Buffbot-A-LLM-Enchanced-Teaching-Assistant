{
 "cells": [
  {
   "cell_type": "code",
   "execution_count": 4,
   "id": "a3ed2d63",
   "metadata": {
    "scrolled": true
   },
   "outputs": [
    {
     "name": "stdout",
     "output_type": "stream",
     "text": [
      "1. Title: Discrete and continuous random variables | Probability and Statistics | Khan Academy\n",
      "   Views: 2M views\n",
      "   Likes: 13K\n",
      "   URL: https://www.youtube.com/watch?v=dOr0NKyD31Q&pp=ygUZZGlzY3JldGUgcmFuZG9tIHZhcmlhYmxlcw%3D%3D\n",
      "==================================================\n",
      "2. Title: Random variables | Probability and Statistics | Khan Academy\n",
      "   Views: 1.7M views\n",
      "   Likes: 9.9K\n",
      "   URL: https://www.youtube.com/watch?v=3v9w79NhsfI&pp=ygUZZGlzY3JldGUgcmFuZG9tIHZhcmlhYmxlcw%3D%3D\n",
      "==================================================\n",
      "3. Title: 02 - Random Variables and Discrete Probability Distributions\n",
      "   Views: 1.6M views\n",
      "   Likes: 23K\n",
      "   URL: https://www.youtube.com/watch?v=UnzbuqgU2LE&pp=ygUZZGlzY3JldGUgcmFuZG9tIHZhcmlhYmxlcw%3D%3D\n",
      "==================================================\n",
      "4. Title: Expected Value and Variance of Discrete Random Variables\n",
      "   Views: 1.1M views\n",
      "   Likes: 12K\n",
      "   URL: https://www.youtube.com/watch?v=OvTEhNL96v0&pp=ygUZZGlzY3JldGUgcmFuZG9tIHZhcmlhYmxlcw%3D%3D\n",
      "==================================================\n",
      "5. Title: How To Calculate Expected Value\n",
      "   Views: 453K views\n",
      "   Likes: 4.3K\n",
      "   URL: https://www.youtube.com/watch?v=b6VK2VPMXNI&pp=ygUZZGlzY3JldGUgcmFuZG9tIHZhcmlhYmxlcw%3D%3D\n",
      "==================================================\n"
     ]
    }
   ],
   "source": [
    "from selenium import webdriver\n",
    "from bs4 import BeautifulSoup\n",
    "import re\n",
    "\n",
    "search_query = 'discrete random variables'\n",
    "#search_query = input()\n",
    "\n",
    "def parse_views(views_text):\n",
    "    numerical_part = views_text.split()[0]\n",
    "    if 'K' in views_text:\n",
    "        return int(float(numerical_part.replace('K', '')) * 1000)\n",
    "    elif 'M' in views_text:\n",
    "        return int(float(numerical_part.replace('M', '')) * 1000000)\n",
    "    elif 'views' in views_text:\n",
    "        return 0\n",
    "    else:\n",
    "        return int(numerical_part.replace(',', ''))\n",
    "\n",
    "def get_likes(driver, video_url):\n",
    "    driver.get(video_url)\n",
    "    content = driver.page_source\n",
    "    likes_match = re.search(r'(\\d+(?:\\.\\d+)?(?:K|M)?) likes', content)\n",
    "    if likes_match:\n",
    "        likes_text = likes_match.group(1)\n",
    "        return likes_text\n",
    "    else:\n",
    "        return \"Likes not found\"\n",
    "\n",
    "# initialize webdriver\n",
    "driver = webdriver.Chrome()\n",
    "\n",
    "# build the search URL\n",
    "search_url = f'https://www.youtube.com/results?search_query={search_query}'\n",
    "driver.get(search_url)\n",
    "\n",
    "# BeautifulSoup \n",
    "content = driver.page_source.encode('utf-8').strip()\n",
    "soup = BeautifulSoup(content, 'html.parser')\n",
    "\n",
    "# video elements\n",
    "video_elements = soup.find_all('ytd-video-renderer')\n",
    "\n",
    "# initialize a list to store video data\n",
    "videos_data = []\n",
    "\n",
    "# extract title, views, and URL\n",
    "for video in video_elements:\n",
    "    # title\n",
    "    title_element = video.find('yt-formatted-string', class_='style-scope ytd-video-renderer')\n",
    "    if title_element:\n",
    "        title = title_element.text.strip()\n",
    "    else:\n",
    "        title = \"Title not found.\"\n",
    "\n",
    "    # views\n",
    "    views_element = video.find('span', class_='inline-metadata-item style-scope ytd-video-meta-block')\n",
    "    if views_element:\n",
    "        views = views_element.text.strip()\n",
    "    else:\n",
    "        views = \"Views not found.\"\n",
    "\n",
    "    # URL\n",
    "    url = video.find('a', class_='yt-simple-endpoint')['href']\n",
    "    video_url = f'https://www.youtube.com{url}'\n",
    "\n",
    "    # Append data to the list\n",
    "    videos_data.append({'title': title, 'views': views, 'url': video_url})\n",
    "\n",
    "# Sort based on views\n",
    "sorted_videos_data = sorted(videos_data, key=lambda x: parse_views(x['views']), reverse=True)\n",
    "\n",
    "# number of likes for each video\n",
    "for i, video_data in enumerate(sorted_videos_data[:5], start=1):\n",
    "    likes = get_likes(driver, video_data['url'])\n",
    "    print(f\"{i}. Title: {video_data['title']}\")\n",
    "    print(f\"   Views: {video_data['views']}\")\n",
    "    print(f\"   Likes: {likes}\")\n",
    "    print(f\"   URL: {video_data['url']}\")\n",
    "    print(\"=\" * 50)\n",
    "\n",
    "# Close the webdriver\n",
    "driver.quit()\n"
   ]
  },
  {
   "cell_type": "code",
   "execution_count": 23,
   "id": "8e5ba3a2",
   "metadata": {},
   "outputs": [
    {
     "name": "stdout",
     "output_type": "stream",
     "text": [
      "Desired part: 3v9w79NhsfI\n"
     ]
    }
   ],
   "source": [
    "ytubevid = sorted_videos_data[1]\n",
    "ytubevid.keys()\n",
    "\n",
    "ytubevidurl = ytubevid['url']\n",
    "\n",
    "# Extracting the desired part from the URL\n",
    "desired_part = youtube_url.split('v=')[1]\n",
    "\n",
    "print(\"Desired part:\", desired_part)"
   ]
  },
  {
   "cell_type": "code",
   "execution_count": 69,
   "id": "e0d624a9",
   "metadata": {},
   "outputs": [
    {
     "name": "stdout",
     "output_type": "stream",
     "text": [
      "The combined text has been saved to combined_text.txt\n"
     ]
    }
   ],
   "source": [
    "from youtube_transcript_api import YouTubeTranscriptApi \n",
    "  \n",
    "# assigning srt variable with the list \n",
    "# of dictionaries obtained by the get_transcript() function\n",
    "srt = YouTubeTranscriptApi.get_transcript(desired_part)\n",
    "\n",
    "\n",
    "# Assuming srt is the list returned by YouTubeTranscriptApi.get_transcript(desired_part)\n",
    "text_list = []\n",
    "\n",
    "for item in srt:\n",
    "    text_list.append(item['text'])\n",
    "\n",
    "# Now text_list contains all the 'text' values from the transcript\n",
    "#print(text_list)\n",
    "\n",
    "# Remove line breaks and join the text\n",
    "combined_text = ' '.join(text.replace('\\n', ' ') for text in text_list)\n",
    "\n",
    "# Specify the file name and open the file in write mode\n",
    "file_name = 'combined_text.txt'\n",
    "with open(file_name, 'w') as file:\n",
    "    # Write the combined text to the file\n",
    "    file.write(combined_text)\n",
    "\n",
    "print(f'The combined text has been saved to {file_name}')"
   ]
  },
  {
   "cell_type": "code",
   "execution_count": null,
   "id": "4afde989",
   "metadata": {},
   "outputs": [],
   "source": []
  }
 ],
 "metadata": {
  "kernelspec": {
   "display_name": "Python 3 (ipykernel)",
   "language": "python",
   "name": "python3"
  },
  "language_info": {
   "codemirror_mode": {
    "name": "ipython",
    "version": 3
   },
   "file_extension": ".py",
   "mimetype": "text/x-python",
   "name": "python",
   "nbconvert_exporter": "python",
   "pygments_lexer": "ipython3",
   "version": "3.11.4"
  }
 },
 "nbformat": 4,
 "nbformat_minor": 5
}
